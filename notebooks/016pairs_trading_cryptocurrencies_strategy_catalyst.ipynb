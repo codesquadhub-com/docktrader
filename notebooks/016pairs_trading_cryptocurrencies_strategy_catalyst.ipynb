{
 "cells": [
  {
   "cell_type": "markdown",
   "metadata": {},
   "source": [
    "# Front Matter\n",
    "URL: [GitHub source](https://github.com/lamres/pairs_trading_cryptocurrencies_strategy_catalyst/blob/master/cointegration_analysis_cryptocurrencies.ipynb)\n",
    "1. Run code in non-catalyst environment, as it requires statsmodels==0.11.1"
   ]
  },
  {
   "cell_type": "code",
   "execution_count": 2,
   "metadata": {},
   "outputs": [
    {
     "name": "stdout",
     "output_type": "stream",
     "text": [
      "Requirement already satisfied: statsmodels==0.11.1 in /opt/conda/lib/python3.7/site-packages (0.11.1)\n",
      "Requirement already satisfied: numpy>=1.14 in /opt/conda/lib/python3.7/site-packages (from statsmodels==0.11.1) (1.18.5)\n",
      "Requirement already satisfied: patsy>=0.5 in /opt/conda/lib/python3.7/site-packages (from statsmodels==0.11.1) (0.5.1)\n",
      "Requirement already satisfied: scipy>=1.0 in /opt/conda/lib/python3.7/site-packages (from statsmodels==0.11.1) (1.5.0)\n",
      "Requirement already satisfied: pandas>=0.21 in /opt/conda/lib/python3.7/site-packages (from statsmodels==0.11.1) (1.0.5)\n",
      "Requirement already satisfied: six in /opt/conda/lib/python3.7/site-packages (from patsy>=0.5->statsmodels==0.11.1) (1.15.0)\n",
      "Requirement already satisfied: pytz>=2017.2 in /opt/conda/lib/python3.7/site-packages (from pandas>=0.21->statsmodels==0.11.1) (2020.1)\n",
      "Requirement already satisfied: python-dateutil>=2.6.1 in /opt/conda/lib/python3.7/site-packages (from pandas>=0.21->statsmodels==0.11.1) (2.8.1)\n",
      "0.11.1\n"
     ]
    }
   ],
   "source": [
    "import sys\n",
    "!{sys.executable} -m pip install statsmodels==0.11.1"
   ]
  },
  {
   "cell_type": "code",
   "execution_count": 10,
   "metadata": {},
   "outputs": [
    {
     "name": "stdout",
     "output_type": "stream",
     "text": [
      "3.5.0\n",
      "1.0.5\n",
      "2.24.0\n"
     ]
    }
   ],
   "source": [
    "import quandl; print(quandl.version.VERSION)\n",
    "import pandas as pd; print(pd.__version__)\n",
    "from matplotlib import pyplot as plt\n",
    "import requests; print(requests.__version__)\n",
    "import statsmodels.tsa.stattools as ts\n",
    "from statsmodels.tsa.vector_ar.vecm import coint_johansen"
   ]
  },
  {
   "cell_type": "markdown",
   "metadata": {},
   "source": [
    "### Download price data from Bitfinex"
   ]
  },
  {
   "cell_type": "code",
   "execution_count": 11,
   "metadata": {},
   "outputs": [
    {
     "name": "stdout",
     "output_type": "stream",
     "text": [
      "Downloading BTCUSD\n",
      "Downloading ETHUSD\n",
      "Downloading LTCUSD\n",
      "Downloading XMRUSD\n",
      "Downloading NEOUSD\n",
      "Downloading XRPUSD\n",
      "Downloading ZECUSD\n"
     ]
    },
    {
     "data": {
      "text/html": [
       "<div>\n",
       "<style scoped>\n",
       "    .dataframe tbody tr th:only-of-type {\n",
       "        vertical-align: middle;\n",
       "    }\n",
       "\n",
       "    .dataframe tbody tr th {\n",
       "        vertical-align: top;\n",
       "    }\n",
       "\n",
       "    .dataframe thead th {\n",
       "        text-align: right;\n",
       "    }\n",
       "</style>\n",
       "<table border=\"1\" class=\"dataframe\">\n",
       "  <thead>\n",
       "    <tr style=\"text-align: right;\">\n",
       "      <th></th>\n",
       "      <th>BTCUSD</th>\n",
       "      <th>ETHUSD</th>\n",
       "      <th>LTCUSD</th>\n",
       "      <th>XMRUSD</th>\n",
       "      <th>NEOUSD</th>\n",
       "      <th>XRPUSD</th>\n",
       "      <th>ZECUSD</th>\n",
       "    </tr>\n",
       "  </thead>\n",
       "  <tbody>\n",
       "    <tr>\n",
       "      <th>0</th>\n",
       "      <td>14722.0</td>\n",
       "      <td>858.78</td>\n",
       "      <td>250.11</td>\n",
       "      <td>364.23</td>\n",
       "      <td>88.82</td>\n",
       "      <td>2.1930</td>\n",
       "      <td>547.88</td>\n",
       "    </tr>\n",
       "    <tr>\n",
       "      <th>1</th>\n",
       "      <td>15150.0</td>\n",
       "      <td>942.01</td>\n",
       "      <td>244.21</td>\n",
       "      <td>386.00</td>\n",
       "      <td>104.76</td>\n",
       "      <td>2.7317</td>\n",
       "      <td>559.70</td>\n",
       "    </tr>\n",
       "    <tr>\n",
       "      <th>2</th>\n",
       "      <td>15159.0</td>\n",
       "      <td>940.81</td>\n",
       "      <td>237.76</td>\n",
       "      <td>372.50</td>\n",
       "      <td>97.61</td>\n",
       "      <td>2.7367</td>\n",
       "      <td>545.11</td>\n",
       "    </tr>\n",
       "    <tr>\n",
       "      <th>3</th>\n",
       "      <td>16911.0</td>\n",
       "      <td>962.77</td>\n",
       "      <td>242.90</td>\n",
       "      <td>357.62</td>\n",
       "      <td>94.72</td>\n",
       "      <td>2.4961</td>\n",
       "      <td>541.98</td>\n",
       "    </tr>\n",
       "    <tr>\n",
       "      <th>4</th>\n",
       "      <td>17169.0</td>\n",
       "      <td>1004.30</td>\n",
       "      <td>278.00</td>\n",
       "      <td>392.63</td>\n",
       "      <td>100.35</td>\n",
       "      <td>2.6424</td>\n",
       "      <td>654.77</td>\n",
       "    </tr>\n",
       "  </tbody>\n",
       "</table>\n",
       "</div>"
      ],
      "text/plain": [
       "    BTCUSD   ETHUSD  LTCUSD  XMRUSD  NEOUSD  XRPUSD  ZECUSD\n",
       "0  14722.0   858.78  250.11  364.23   88.82  2.1930  547.88\n",
       "1  15150.0   942.01  244.21  386.00  104.76  2.7317  559.70\n",
       "2  15159.0   940.81  237.76  372.50   97.61  2.7367  545.11\n",
       "3  16911.0   962.77  242.90  357.62   94.72  2.4961  541.98\n",
       "4  17169.0  1004.30  278.00  392.63  100.35  2.6424  654.77"
      ]
     },
     "execution_count": 11,
     "metadata": {},
     "output_type": "execute_result"
    }
   ],
   "source": [
    "def get_bitfinex_asset(asset, ts_ms_start, ts_ms_end):\n",
    "    url = 'https://api.bitfinex.com/v2/candles/trade:1D:t' + asset + '/hist'\n",
    "    params = { 'start': ts_ms_start, 'end': ts_ms_end, 'sort': 1}\n",
    "    r = requests.get(url, params = params)\n",
    "    data = r.json()\n",
    "    return pd.DataFrame(data)[2]\n",
    "\n",
    "start_date = 1514768400000 # 1 January 2018, 00:00:00\n",
    "end_date = 1527811199000   # 31 May 2018, 23:59:59\n",
    "assets = ['BTCUSD', 'ETHUSD', 'LTCUSD', 'XMRUSD', 'NEOUSD', 'XRPUSD', 'ZECUSD']\n",
    "\n",
    "crypto_prices = pd.DataFrame()\n",
    "\n",
    "for a in assets:\n",
    "    print('Downloading ' + a)\n",
    "    crypto_prices[a] = get_bitfinex_asset(asset = a, ts_ms_start = start_date, ts_ms_end = end_date)\n",
    "\n",
    "crypto_prices.head()"
   ]
  },
  {
   "cell_type": "markdown",
   "metadata": {},
   "source": [
    "### Visualize the cryptocurrencies"
   ]
  },
  {
   "cell_type": "code",
   "execution_count": 13,
   "metadata": {},
   "outputs": [],
   "source": [
    "%%capture\n",
    "# Normalize prices by first value\n",
    "norm_prices = crypto_prices.divide(crypto_prices.iloc[0])\n",
    "\n",
    "plt.figure(figsize = (15, 10))\n",
    "plt.plot(norm_prices)\n",
    "plt.xlabel('days')\n",
    "plt.title('Performance of cryptocurrencies')\n",
    "plt.legend(assets)\n",
    "plt.show()"
   ]
  },
  {
   "cell_type": "markdown",
   "metadata": {},
   "source": [
    "### Cointegration test\n",
    "The Null hypothesis is that there is no cointegration, the alternative hypothesis is that there is cointegrating relationship. If the pvalue is small, below a critical size, then we can reject the hypothesis that there is no cointegrating relationship."
   ]
  },
  {
   "cell_type": "code",
   "execution_count": 14,
   "metadata": {},
   "outputs": [
    {
     "name": "stdout",
     "output_type": "stream",
     "text": [
      "BTCUSD and ETHUSD: p-value = 0.06576979804268993\n",
      "BTCUSD and LTCUSD: p-value = 0.0734714067845094\n",
      "BTCUSD and XMRUSD: p-value = 0.021570889424181974\n",
      "BTCUSD and NEOUSD: p-value = 0.10239483419041939\n",
      "BTCUSD and XRPUSD: p-value = 0.00900122457399106\n",
      "BTCUSD and ZECUSD: p-value = 0.16378128244807538\n",
      "ETHUSD and BTCUSD: p-value = 0.31796015423321233\n",
      "ETHUSD and LTCUSD: p-value = 0.6090758251850152\n",
      "ETHUSD and XMRUSD: p-value = 0.1728464308842797\n",
      "ETHUSD and NEOUSD: p-value = 0.12876967722061056\n",
      "ETHUSD and XRPUSD: p-value = 0.8353724771161408\n",
      "ETHUSD and ZECUSD: p-value = 0.008516903095807236\n",
      "LTCUSD and BTCUSD: p-value = 0.3251878985925312\n",
      "LTCUSD and ETHUSD: p-value = 0.1668138333578033\n",
      "LTCUSD and XMRUSD: p-value = 0.174000054987613\n",
      "LTCUSD and NEOUSD: p-value = 0.12495042850291543\n",
      "LTCUSD and XRPUSD: p-value = 0.34798612459501843\n",
      "LTCUSD and ZECUSD: p-value = 0.22084600472087812\n",
      "XMRUSD and BTCUSD: p-value = 0.036889441047506355\n",
      "XMRUSD and ETHUSD: p-value = 0.06850494599390901\n",
      "XMRUSD and LTCUSD: p-value = 0.18455770053115805\n",
      "XMRUSD and NEOUSD: p-value = 0.15900072498514917\n",
      "XMRUSD and XRPUSD: p-value = 0.10535218181116479\n",
      "XMRUSD and ZECUSD: p-value = 0.08687381831452817\n",
      "NEOUSD and BTCUSD: p-value = 0.6594245361268343\n",
      "NEOUSD and ETHUSD: p-value = 0.10139553534891821\n",
      "NEOUSD and LTCUSD: p-value = 0.5917795242081403\n",
      "NEOUSD and XMRUSD: p-value = 0.3199292294534868\n",
      "NEOUSD and XRPUSD: p-value = 0.7028115231545058\n",
      "NEOUSD and ZECUSD: p-value = 0.19217634013579088\n",
      "XRPUSD and BTCUSD: p-value = 0.38260792567369023\n",
      "XRPUSD and ETHUSD: p-value = 0.8809574619059624\n",
      "XRPUSD and LTCUSD: p-value = 0.4128201847279674\n",
      "XRPUSD and XMRUSD: p-value = 0.22954147047441087\n",
      "XRPUSD and NEOUSD: p-value = 0.06127368028783816\n",
      "XRPUSD and ZECUSD: p-value = 0.6935781798945665\n",
      "ZECUSD and BTCUSD: p-value = 0.3647082586328958\n",
      "ZECUSD and ETHUSD: p-value = 0.06280072073557322\n",
      "ZECUSD and LTCUSD: p-value = 0.47579813125265785\n",
      "ZECUSD and XMRUSD: p-value = 0.10086224135308042\n",
      "ZECUSD and NEOUSD: p-value = 0.19230331197251255\n",
      "ZECUSD and XRPUSD: p-value = 0.8939192042415407\n"
     ]
    }
   ],
   "source": [
    "for a1 in crypto_prices.columns:\n",
    "    for a2 in crypto_prices.columns:\n",
    "        if a1 != a2:\n",
    "            test_result = ts.coint(crypto_prices[a1], crypto_prices[a2])\n",
    "            print(a1 + ' and ' + a2 + ': p-value = ' + str(test_result[1]))"
   ]
  },
  {
   "cell_type": "code",
   "execution_count": null,
   "metadata": {},
   "outputs": [],
   "source": []
  }
 ],
 "metadata": {
  "kernelspec": {
   "display_name": "Python 3",
   "language": "python",
   "name": "python3"
  },
  "language_info": {
   "codemirror_mode": {
    "name": "ipython",
    "version": 3
   },
   "file_extension": ".py",
   "mimetype": "text/x-python",
   "name": "python",
   "nbconvert_exporter": "python",
   "pygments_lexer": "ipython3",
   "version": "3.7.7"
  }
 },
 "nbformat": 4,
 "nbformat_minor": 4
}
